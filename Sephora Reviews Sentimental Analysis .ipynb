{
 "cells": [
  {
   "cell_type": "markdown",
   "id": "0c59977d",
   "metadata": {},
   "source": [
    "# Importing Necessary Libraries for the analysis "
   ]
  },
  {
   "cell_type": "code",
   "execution_count": 1,
   "id": "2a4b54fe",
   "metadata": {},
   "outputs": [
    {
     "name": "stdout",
     "output_type": "stream",
     "text": [
      "Requirement already satisfied: keras in c:\\users\\91777\\anaconda3\\lib\\site-packages (2.13.1)\n"
     ]
    }
   ],
   "source": [
    "!pip install keras "
   ]
  },
  {
   "cell_type": "code",
   "execution_count": 2,
   "id": "b5364ce8",
   "metadata": {},
   "outputs": [],
   "source": [
    "import pandas as pd\n",
    "import numpy as np\n",
    "import matplotlib.pyplot as plt\n",
    "import seaborn as sns\n",
    "import plotly.express as px\n",
    "import nltk      # for the text processing \n",
    "from nltk.corpus import stopwords\n",
    "from nltk.sentiment import SentimentIntensityAnalyzer\n",
    "from textblob import TextBlob\n",
    "from sklearn.model_selection import train_test_split\n",
    "from sklearn.feature_extraction.text import CountVectorizer, TfidfVectorizer\n",
    "from sklearn.metrics import accuracy_score, classification_report, confusion_matrix\n",
    "from nltk.stem.porter import PorterStemmer\n",
    "from nltk.tokenize import word_tokenize\n",
    "\n",
    "from keras.preprocessing.text import Tokenizer\n",
    "from tensorflow.keras.preprocessing.sequence import pad_sequences\n",
    "from keras.models import Sequential\n",
    "from keras.layers import Dense,Dropout\n",
    "\n",
    "from sklearn.feature_extraction.text import TfidfVectorizer\n",
    "from sklearn.pipeline import Pipeline\n",
    "# from sklearn.metrics import accuracy_score,confusion_matrix,classification_report,plot_confusion_matrix\n",
    "from sklearn.feature_extraction.text import CountVectorizer,TfidfTransformer\n",
    "from nltk.tokenize.toktok import ToktokTokenizer\n",
    "from bs4 import BeautifulSoup"
   ]
  },
  {
   "cell_type": "code",
   "execution_count": 4,
   "id": "7e5ce751",
   "metadata": {},
   "outputs": [],
   "source": [
    "# define constants\n",
    "RANDOM_STATE =42"
   ]
  },
  {
   "cell_type": "markdown",
   "id": "a19965ed",
   "metadata": {},
   "source": [
    "# Loading of reviews Dataset 🔋"
   ]
  },
  {
   "cell_type": "markdown",
   "id": "c45695bb",
   "metadata": {},
   "source": [
    "P.S. 💡 Due to limitations in computational resources, I opted to load only a single .csv file"
   ]
  },
  {
   "cell_type": "code",
   "execution_count": 5,
   "id": "bf02ef61",
   "metadata": {},
   "outputs": [],
   "source": [
    "df_1 = pd.read_csv(\"C:\\\\Users\\\\91777\\\\Downloads\\\\Sephora Dataset\\\\reviews_0-250.csv\", low_memory = False)"
   ]
  },
  {
   "cell_type": "code",
   "execution_count": 6,
   "id": "98b18d56",
   "metadata": {},
   "outputs": [
    {
     "data": {
      "text/html": [
       "<div>\n",
       "<style scoped>\n",
       "    .dataframe tbody tr th:only-of-type {\n",
       "        vertical-align: middle;\n",
       "    }\n",
       "\n",
       "    .dataframe tbody tr th {\n",
       "        vertical-align: top;\n",
       "    }\n",
       "\n",
       "    .dataframe thead th {\n",
       "        text-align: right;\n",
       "    }\n",
       "</style>\n",
       "<table border=\"1\" class=\"dataframe\">\n",
       "  <thead>\n",
       "    <tr style=\"text-align: right;\">\n",
       "      <th></th>\n",
       "      <th>Unnamed: 0</th>\n",
       "      <th>author_id</th>\n",
       "      <th>rating</th>\n",
       "      <th>is_recommended</th>\n",
       "      <th>helpfulness</th>\n",
       "      <th>total_feedback_count</th>\n",
       "      <th>total_neg_feedback_count</th>\n",
       "      <th>total_pos_feedback_count</th>\n",
       "      <th>submission_time</th>\n",
       "      <th>review_text</th>\n",
       "      <th>review_title</th>\n",
       "      <th>skin_tone</th>\n",
       "      <th>eye_color</th>\n",
       "      <th>skin_type</th>\n",
       "      <th>hair_color</th>\n",
       "      <th>product_id</th>\n",
       "      <th>product_name</th>\n",
       "      <th>brand_name</th>\n",
       "      <th>price_usd</th>\n",
       "    </tr>\n",
       "  </thead>\n",
       "  <tbody>\n",
       "    <tr>\n",
       "      <th>0</th>\n",
       "      <td>0</td>\n",
       "      <td>1741593524</td>\n",
       "      <td>5</td>\n",
       "      <td>1.0</td>\n",
       "      <td>1.0</td>\n",
       "      <td>2</td>\n",
       "      <td>0</td>\n",
       "      <td>2</td>\n",
       "      <td>2023-02-01</td>\n",
       "      <td>I use this with the Nudestix “Citrus Clean Bal...</td>\n",
       "      <td>Taught me how to double cleanse!</td>\n",
       "      <td>NaN</td>\n",
       "      <td>brown</td>\n",
       "      <td>dry</td>\n",
       "      <td>black</td>\n",
       "      <td>P504322</td>\n",
       "      <td>Gentle Hydra-Gel Face Cleanser</td>\n",
       "      <td>NUDESTIX</td>\n",
       "      <td>19.0</td>\n",
       "    </tr>\n",
       "    <tr>\n",
       "      <th>1</th>\n",
       "      <td>1</td>\n",
       "      <td>31423088263</td>\n",
       "      <td>1</td>\n",
       "      <td>0.0</td>\n",
       "      <td>NaN</td>\n",
       "      <td>0</td>\n",
       "      <td>0</td>\n",
       "      <td>0</td>\n",
       "      <td>2023-03-21</td>\n",
       "      <td>I bought this lip mask after reading the revie...</td>\n",
       "      <td>Disappointed</td>\n",
       "      <td>NaN</td>\n",
       "      <td>NaN</td>\n",
       "      <td>NaN</td>\n",
       "      <td>NaN</td>\n",
       "      <td>P420652</td>\n",
       "      <td>Lip Sleeping Mask Intense Hydration with Vitam...</td>\n",
       "      <td>LANEIGE</td>\n",
       "      <td>24.0</td>\n",
       "    </tr>\n",
       "    <tr>\n",
       "      <th>2</th>\n",
       "      <td>2</td>\n",
       "      <td>5061282401</td>\n",
       "      <td>5</td>\n",
       "      <td>1.0</td>\n",
       "      <td>NaN</td>\n",
       "      <td>0</td>\n",
       "      <td>0</td>\n",
       "      <td>0</td>\n",
       "      <td>2023-03-21</td>\n",
       "      <td>My review title says it all! I get so excited ...</td>\n",
       "      <td>New Favorite Routine</td>\n",
       "      <td>light</td>\n",
       "      <td>brown</td>\n",
       "      <td>dry</td>\n",
       "      <td>blonde</td>\n",
       "      <td>P420652</td>\n",
       "      <td>Lip Sleeping Mask Intense Hydration with Vitam...</td>\n",
       "      <td>LANEIGE</td>\n",
       "      <td>24.0</td>\n",
       "    </tr>\n",
       "    <tr>\n",
       "      <th>3</th>\n",
       "      <td>3</td>\n",
       "      <td>6083038851</td>\n",
       "      <td>5</td>\n",
       "      <td>1.0</td>\n",
       "      <td>NaN</td>\n",
       "      <td>0</td>\n",
       "      <td>0</td>\n",
       "      <td>0</td>\n",
       "      <td>2023-03-20</td>\n",
       "      <td>I’ve always loved this formula for a long time...</td>\n",
       "      <td>Can't go wrong with any of them</td>\n",
       "      <td>NaN</td>\n",
       "      <td>brown</td>\n",
       "      <td>combination</td>\n",
       "      <td>black</td>\n",
       "      <td>P420652</td>\n",
       "      <td>Lip Sleeping Mask Intense Hydration with Vitam...</td>\n",
       "      <td>LANEIGE</td>\n",
       "      <td>24.0</td>\n",
       "    </tr>\n",
       "    <tr>\n",
       "      <th>4</th>\n",
       "      <td>4</td>\n",
       "      <td>47056667835</td>\n",
       "      <td>5</td>\n",
       "      <td>1.0</td>\n",
       "      <td>NaN</td>\n",
       "      <td>0</td>\n",
       "      <td>0</td>\n",
       "      <td>0</td>\n",
       "      <td>2023-03-20</td>\n",
       "      <td>If you have dry cracked lips, this is a must h...</td>\n",
       "      <td>A must have !!!</td>\n",
       "      <td>light</td>\n",
       "      <td>hazel</td>\n",
       "      <td>combination</td>\n",
       "      <td>NaN</td>\n",
       "      <td>P420652</td>\n",
       "      <td>Lip Sleeping Mask Intense Hydration with Vitam...</td>\n",
       "      <td>LANEIGE</td>\n",
       "      <td>24.0</td>\n",
       "    </tr>\n",
       "  </tbody>\n",
       "</table>\n",
       "</div>"
      ],
      "text/plain": [
       "   Unnamed: 0    author_id  rating  is_recommended  helpfulness  \\\n",
       "0           0   1741593524       5             1.0          1.0   \n",
       "1           1  31423088263       1             0.0          NaN   \n",
       "2           2   5061282401       5             1.0          NaN   \n",
       "3           3   6083038851       5             1.0          NaN   \n",
       "4           4  47056667835       5             1.0          NaN   \n",
       "\n",
       "   total_feedback_count  total_neg_feedback_count  total_pos_feedback_count  \\\n",
       "0                     2                         0                         2   \n",
       "1                     0                         0                         0   \n",
       "2                     0                         0                         0   \n",
       "3                     0                         0                         0   \n",
       "4                     0                         0                         0   \n",
       "\n",
       "  submission_time                                        review_text  \\\n",
       "0      2023-02-01  I use this with the Nudestix “Citrus Clean Bal...   \n",
       "1      2023-03-21  I bought this lip mask after reading the revie...   \n",
       "2      2023-03-21  My review title says it all! I get so excited ...   \n",
       "3      2023-03-20  I’ve always loved this formula for a long time...   \n",
       "4      2023-03-20  If you have dry cracked lips, this is a must h...   \n",
       "\n",
       "                       review_title skin_tone eye_color    skin_type  \\\n",
       "0  Taught me how to double cleanse!       NaN     brown          dry   \n",
       "1                      Disappointed       NaN       NaN          NaN   \n",
       "2              New Favorite Routine     light     brown          dry   \n",
       "3   Can't go wrong with any of them       NaN     brown  combination   \n",
       "4                   A must have !!!     light     hazel  combination   \n",
       "\n",
       "  hair_color product_id                                       product_name  \\\n",
       "0      black    P504322                     Gentle Hydra-Gel Face Cleanser   \n",
       "1        NaN    P420652  Lip Sleeping Mask Intense Hydration with Vitam...   \n",
       "2     blonde    P420652  Lip Sleeping Mask Intense Hydration with Vitam...   \n",
       "3      black    P420652  Lip Sleeping Mask Intense Hydration with Vitam...   \n",
       "4        NaN    P420652  Lip Sleeping Mask Intense Hydration with Vitam...   \n",
       "\n",
       "  brand_name  price_usd  \n",
       "0   NUDESTIX       19.0  \n",
       "1    LANEIGE       24.0  \n",
       "2    LANEIGE       24.0  \n",
       "3    LANEIGE       24.0  \n",
       "4    LANEIGE       24.0  "
      ]
     },
     "execution_count": 6,
     "metadata": {},
     "output_type": "execute_result"
    }
   ],
   "source": [
    "df_1.head()"
   ]
  },
  {
   "cell_type": "markdown",
   "id": "28bdd249",
   "metadata": {},
   "source": [
    "# Exploriong review Data"
   ]
  },
  {
   "cell_type": "code",
   "execution_count": 7,
   "id": "61a55528",
   "metadata": {},
   "outputs": [
    {
     "data": {
      "text/plain": [
       "(602130, 19)"
      ]
     },
     "execution_count": 7,
     "metadata": {},
     "output_type": "execute_result"
    }
   ],
   "source": [
    "df_1.shape"
   ]
  },
  {
   "cell_type": "code",
   "execution_count": 8,
   "id": "0992d085",
   "metadata": {},
   "outputs": [
    {
     "data": {
      "text/plain": [
       "Unnamed: 0                       0\n",
       "author_id                        0\n",
       "rating                           0\n",
       "is_recommended              117486\n",
       "helpfulness                 331832\n",
       "total_feedback_count             0\n",
       "total_neg_feedback_count         0\n",
       "total_pos_feedback_count         0\n",
       "submission_time                  0\n",
       "review_text                    999\n",
       "review_title                167011\n",
       "skin_tone                   106056\n",
       "eye_color                   138488\n",
       "skin_type                    74683\n",
       "hair_color                  141081\n",
       "product_id                       0\n",
       "product_name                     0\n",
       "brand_name                       0\n",
       "price_usd                        0\n",
       "dtype: int64"
      ]
     },
     "execution_count": 8,
     "metadata": {},
     "output_type": "execute_result"
    }
   ],
   "source": [
    "df_1.isnull().sum()"
   ]
  },
  {
   "cell_type": "markdown",
   "id": "1c56640a",
   "metadata": {},
   "source": [
    "# Since our objective is to construct a sentiment analysis model using the dataset, we will utilize the following features:-\n",
    "\n",
    "review_text\n",
    "\n",
    "rating\n",
    "\n",
    "is_recommended\n",
    "\n",
    "I assume is_recommended column is the target label , as a person will recommend a product while giving it a negative review."
   ]
  },
  {
   "cell_type": "code",
   "execution_count": 9,
   "id": "c261295d",
   "metadata": {
    "collapsed": true
   },
   "outputs": [
    {
     "name": "stderr",
     "output_type": "stream",
     "text": [
      "C:\\Users\\91777\\AppData\\Local\\Temp\\ipykernel_10748\\2813919057.py:3: SettingWithCopyWarning: \n",
      "A value is trying to be set on a copy of a slice from a DataFrame\n",
      "\n",
      "See the caveats in the documentation: https://pandas.pydata.org/pandas-docs/stable/user_guide/indexing.html#returning-a-view-versus-a-copy\n",
      "  df.rename(columns={'review_text':'text', 'is_recommended':'label'},  inplace=True)\n"
     ]
    },
    {
     "data": {
      "text/plain": [
       "1.0    406094\n",
       "0.0     78550\n",
       "Name: label, dtype: int64"
      ]
     },
     "execution_count": 9,
     "metadata": {},
     "output_type": "execute_result"
    }
   ],
   "source": [
    "df = df_1[['review_text' , 'is_recommended' , 'rating']]\n",
    "# change column names\n",
    "df.rename(columns={'review_text':'text', 'is_recommended':'label'},  inplace=True)\n",
    "df.head()\n",
    "\n",
    "df.label.value_counts()"
   ]
  },
  {
   "cell_type": "code",
   "execution_count": 10,
   "id": "c7da8d15",
   "metadata": {},
   "outputs": [
    {
     "name": "stdout",
     "output_type": "stream",
     "text": [
      "<class 'pandas.core.frame.DataFrame'>\n",
      "RangeIndex: 602130 entries, 0 to 602129\n",
      "Data columns (total 3 columns):\n",
      " #   Column  Non-Null Count   Dtype  \n",
      "---  ------  --------------   -----  \n",
      " 0   text    601131 non-null  object \n",
      " 1   label   484644 non-null  float64\n",
      " 2   rating  602130 non-null  int64  \n",
      "dtypes: float64(1), int64(1), object(1)\n",
      "memory usage: 13.8+ MB\n"
     ]
    }
   ],
   "source": [
    "df.info()"
   ]
  },
  {
   "cell_type": "markdown",
   "id": "37aacc29",
   "metadata": {},
   "source": [
    "P.S. 💡 It's noticed that label is type float64 , so a castting to int is needed .\n",
    "\n",
    "Let's before, check the values at label to make sure they are all numbers and to remove NAN."
   ]
  },
  {
   "cell_type": "code",
   "execution_count": 11,
   "id": "d931c1ba",
   "metadata": {},
   "outputs": [
    {
     "data": {
      "text/plain": [
       "1.0    406094\n",
       "0.0     78550\n",
       "Name: label, dtype: int64"
      ]
     },
     "execution_count": 11,
     "metadata": {},
     "output_type": "execute_result"
    }
   ],
   "source": [
    "df['label'].value_counts()"
   ]
  },
  {
   "cell_type": "code",
   "execution_count": 12,
   "id": "443b5018",
   "metadata": {},
   "outputs": [
    {
     "name": "stdout",
     "output_type": "stream",
     "text": [
      "Positive:  67.44 %\n",
      "Negative:  13.05 %\n"
     ]
    }
   ],
   "source": [
    "#Percentage of Positive/Negative\n",
    "print(\"Positive: \", round(df.label.value_counts()[1]/len(df)*100 , 2 ),\"%\")\n",
    "print(\"Negative: \", round(df.label.value_counts()[0]/len(df)*100, 2 ),\"%\")"
   ]
  },
  {
   "cell_type": "markdown",
   "id": "1880c6f3",
   "metadata": {},
   "source": [
    "We can see the negative and positive reviews are completely unmatched i.e our target variable is higly imbalanced "
   ]
  },
  {
   "cell_type": "markdown",
   "id": "fc29caf0",
   "metadata": {},
   "source": [
    "# Handling of Imbalance data\n",
    "\n"
   ]
  },
  {
   "cell_type": "markdown",
   "id": "d8e4755e",
   "metadata": {},
   "source": [
    "Load two additional.csv files, then perform all the steps we've done before,including:-\n",
    "\n",
    "Filter columns\n",
    "\n",
    "Rename them\n"
   ]
  },
  {
   "cell_type": "code",
   "execution_count": 13,
   "id": "515dbf72",
   "metadata": {},
   "outputs": [
    {
     "data": {
      "text/html": [
       "<div>\n",
       "<style scoped>\n",
       "    .dataframe tbody tr th:only-of-type {\n",
       "        vertical-align: middle;\n",
       "    }\n",
       "\n",
       "    .dataframe tbody tr th {\n",
       "        vertical-align: top;\n",
       "    }\n",
       "\n",
       "    .dataframe thead th {\n",
       "        text-align: right;\n",
       "    }\n",
       "</style>\n",
       "<table border=\"1\" class=\"dataframe\">\n",
       "  <thead>\n",
       "    <tr style=\"text-align: right;\">\n",
       "      <th></th>\n",
       "      <th>text</th>\n",
       "      <th>label</th>\n",
       "      <th>rating</th>\n",
       "    </tr>\n",
       "  </thead>\n",
       "  <tbody>\n",
       "    <tr>\n",
       "      <th>0</th>\n",
       "      <td>Used to swear by this product but hate the sme...</td>\n",
       "      <td>0.0</td>\n",
       "      <td>2</td>\n",
       "    </tr>\n",
       "    <tr>\n",
       "      <th>1</th>\n",
       "      <td>I’ve only been using this for a week and my sk...</td>\n",
       "      <td>1.0</td>\n",
       "      <td>5</td>\n",
       "    </tr>\n",
       "    <tr>\n",
       "      <th>2</th>\n",
       "      <td>Why, why, why would you change the formula?!!!...</td>\n",
       "      <td>0.0</td>\n",
       "      <td>1</td>\n",
       "    </tr>\n",
       "    <tr>\n",
       "      <th>3</th>\n",
       "      <td>I have used this product for years and it has ...</td>\n",
       "      <td>0.0</td>\n",
       "      <td>1</td>\n",
       "    </tr>\n",
       "    <tr>\n",
       "      <th>4</th>\n",
       "      <td>Great product for anti-aging Also great for da...</td>\n",
       "      <td>1.0</td>\n",
       "      <td>5</td>\n",
       "    </tr>\n",
       "  </tbody>\n",
       "</table>\n",
       "</div>"
      ],
      "text/plain": [
       "                                                text  label  rating\n",
       "0  Used to swear by this product but hate the sme...    0.0       2\n",
       "1  I’ve only been using this for a week and my sk...    1.0       5\n",
       "2  Why, why, why would you change the formula?!!!...    0.0       1\n",
       "3  I have used this product for years and it has ...    0.0       1\n",
       "4  Great product for anti-aging Also great for da...    1.0       5"
      ]
     },
     "execution_count": 13,
     "metadata": {},
     "output_type": "execute_result"
    }
   ],
   "source": [
    "df_2 = pd.read_csv(\"C:\\\\Users\\\\91777\\\\Downloads\\\\Sephora Dataset\\\\reviews_250-500.csv\")\n",
    "\n",
    "\n",
    "df_2 = df_2[['review_text' , 'is_recommended' , 'rating']]\n",
    "\n",
    "# changing column names\n",
    "df_2.rename(columns={'review_text':'text', 'is_recommended':'label'}, inplace = True)\n",
    "df_2.head()\n"
   ]
  },
  {
   "cell_type": "code",
   "execution_count": 14,
   "id": "ffeb5ca4",
   "metadata": {},
   "outputs": [
    {
     "data": {
      "text/plain": [
       "1.0    151316\n",
       "0.0     29423\n",
       "Name: label, dtype: int64"
      ]
     },
     "execution_count": 14,
     "metadata": {},
     "output_type": "execute_result"
    }
   ],
   "source": [
    "# Counts of positive / negative in df_2 dataset \n",
    "df_2.label.value_counts()"
   ]
  },
  {
   "cell_type": "code",
   "execution_count": 15,
   "id": "b92ced09",
   "metadata": {},
   "outputs": [
    {
     "data": {
      "text/html": [
       "<div>\n",
       "<style scoped>\n",
       "    .dataframe tbody tr th:only-of-type {\n",
       "        vertical-align: middle;\n",
       "    }\n",
       "\n",
       "    .dataframe tbody tr th {\n",
       "        vertical-align: top;\n",
       "    }\n",
       "\n",
       "    .dataframe thead th {\n",
       "        text-align: right;\n",
       "    }\n",
       "</style>\n",
       "<table border=\"1\" class=\"dataframe\">\n",
       "  <thead>\n",
       "    <tr style=\"text-align: right;\">\n",
       "      <th></th>\n",
       "      <th>text</th>\n",
       "      <th>label</th>\n",
       "      <th>rating</th>\n",
       "    </tr>\n",
       "  </thead>\n",
       "  <tbody>\n",
       "    <tr>\n",
       "      <th>0</th>\n",
       "      <td>This was gifted by Supergoop! in exchange for ...</td>\n",
       "      <td>0.0</td>\n",
       "      <td>2</td>\n",
       "    </tr>\n",
       "    <tr>\n",
       "      <th>1</th>\n",
       "      <td>I didn’t like it; too much product comes out w...</td>\n",
       "      <td>0.0</td>\n",
       "      <td>2</td>\n",
       "    </tr>\n",
       "    <tr>\n",
       "      <th>2</th>\n",
       "      <td>Y’all….I’m begging for everyone to read instru...</td>\n",
       "      <td>1.0</td>\n",
       "      <td>5</td>\n",
       "    </tr>\n",
       "    <tr>\n",
       "      <th>3</th>\n",
       "      <td>I have not figured out how to use this product...</td>\n",
       "      <td>0.0</td>\n",
       "      <td>1</td>\n",
       "    </tr>\n",
       "    <tr>\n",
       "      <th>4</th>\n",
       "      <td>I’m at a loss as to how to use this thing!!! C...</td>\n",
       "      <td>0.0</td>\n",
       "      <td>1</td>\n",
       "    </tr>\n",
       "  </tbody>\n",
       "</table>\n",
       "</div>"
      ],
      "text/plain": [
       "                                                text  label  rating\n",
       "0  This was gifted by Supergoop! in exchange for ...    0.0       2\n",
       "1  I didn’t like it; too much product comes out w...    0.0       2\n",
       "2  Y’all….I’m begging for everyone to read instru...    1.0       5\n",
       "3  I have not figured out how to use this product...    0.0       1\n",
       "4  I’m at a loss as to how to use this thing!!! C...    0.0       1"
      ]
     },
     "execution_count": 15,
     "metadata": {},
     "output_type": "execute_result"
    }
   ],
   "source": [
    "# similarly I will load one more dataset \n",
    "df_3 = pd.read_csv(\"C:\\\\Users\\\\91777\\\\Downloads\\\\Sephora Dataset\\\\reviews_750-1250.csv\", low_memory =False)\n",
    "\n",
    "#selecting columns\n",
    "df_3 = df_3[['review_text' , 'is_recommended' , 'rating']]\n",
    "\n",
    "# change columns names \n",
    "df_3.rename(columns = {'review_text':'text', 'is_recommended': 'label'}, inplace = True)\n",
    "df_3.head()\n"
   ]
  },
  {
   "cell_type": "code",
   "execution_count": 16,
   "id": "a4e37dc0",
   "metadata": {},
   "outputs": [
    {
     "data": {
      "text/plain": [
       "1.0    94797\n",
       "0.0    15624\n",
       "Name: label, dtype: int64"
      ]
     },
     "execution_count": 16,
     "metadata": {},
     "output_type": "execute_result"
    }
   ],
   "source": [
    "# Counts of positive / negative in df_2 dataset \n",
    "df_3.label.value_counts()"
   ]
  },
  {
   "cell_type": "code",
   "execution_count": 17,
   "id": "e7393a4e",
   "metadata": {},
   "outputs": [
    {
     "data": {
      "text/plain": [
       "0.0    45047\n",
       "Name: label, dtype: int64"
      ]
     },
     "execution_count": 17,
     "metadata": {},
     "output_type": "execute_result"
    }
   ],
   "source": [
    "# Concat both Dataframe based on Negative review , so I can have dataset with only negative reviews.\n",
    "df_conct = pd.concat([df_2, df_3], axis=0) \n",
    "# selecting rows based on condition \n",
    "df_neg = df_conct[df_conct['label'] == 0]\n",
    "\n",
    "df_neg['label'].value_counts()"
   ]
  },
  {
   "cell_type": "code",
   "execution_count": 18,
   "id": "3f9dff38",
   "metadata": {},
   "outputs": [
    {
     "data": {
      "text/plain": [
       "1.0    406094\n",
       "0.0    123597\n",
       "Name: label, dtype: int64"
      ]
     },
     "execution_count": 18,
     "metadata": {},
     "output_type": "execute_result"
    }
   ],
   "source": [
    "# Concatenate the first imblanced df with the one with negtaive reviews.\n",
    "\n",
    "df = pd.concat([df, df_neg])\n",
    "df['label'].value_counts()"
   ]
  },
  {
   "cell_type": "code",
   "execution_count": 19,
   "id": "966c3fa1",
   "metadata": {},
   "outputs": [
    {
     "name": "stdout",
     "output_type": "stream",
     "text": [
      "Positive:  62.75 %\n",
      "Negative:  19.1 %\n"
     ]
    }
   ],
   "source": [
    "#Percentage of Positive/Negative\n",
    "print(\"Positive: \", round(df.label.value_counts()[1]/len(df)*100 , 2 ),\"%\")\n",
    "print(\"Negative: \", round(df.label.value_counts()[0]/len(df)*100, 2 ),\"%\")"
   ]
  },
  {
   "cell_type": "markdown",
   "id": "711a45b2",
   "metadata": {},
   "source": [
    "I was able to address the issue of imbalanced data and improve the distribution from 67%:13% to 62%:19%.\n",
    "However, even after this adjustment, our dataset remains imbalanced with a higher proportion of Positive reviews.\n",
    "\n",
    "Here's where I opt to downsize the Majority class , so both classes will be equal"
   ]
  },
  {
   "cell_type": "code",
   "execution_count": 20,
   "id": "480c5298",
   "metadata": {},
   "outputs": [
    {
     "name": "stdout",
     "output_type": "stream",
     "text": [
      "No. of Negtive class: 123597\n",
      "No. of taken samples of Positive class 123597\n"
     ]
    }
   ],
   "source": [
    "df_neg=  df[df['label'] == 0]\n",
    "print('No. of Negtive class:' , len(df_neg))\n",
    "\n",
    "\n",
    "df_pos=  df[df['label'] == 1].sample(len(df_neg))  # to downsize the positive reviews \n",
    "print('No. of taken samples of Positive class', len(df_pos))"
   ]
  },
  {
   "cell_type": "markdown",
   "id": "488dcbc3",
   "metadata": {},
   "source": [
    "merging the Positive and Negative class samples into a single Dataframe and shuffle them.\n",
    "\n",
    "**Shuffling is done to to make sure the data is in  a random order, which prevents it from memorizing the specific sequence and encourages it to learn the general patterns in the data.**"
   ]
  },
  {
   "cell_type": "code",
   "execution_count": 21,
   "id": "affb50f7",
   "metadata": {},
   "outputs": [],
   "source": [
    "df= pd.concat([df_pos, df_neg], axis=0) \n"
   ]
  },
  {
   "cell_type": "code",
   "execution_count": 22,
   "id": "9973ec38",
   "metadata": {},
   "outputs": [
    {
     "data": {
      "text/html": [
       "<div>\n",
       "<style scoped>\n",
       "    .dataframe tbody tr th:only-of-type {\n",
       "        vertical-align: middle;\n",
       "    }\n",
       "\n",
       "    .dataframe tbody tr th {\n",
       "        vertical-align: top;\n",
       "    }\n",
       "\n",
       "    .dataframe thead th {\n",
       "        text-align: right;\n",
       "    }\n",
       "</style>\n",
       "<table border=\"1\" class=\"dataframe\">\n",
       "  <thead>\n",
       "    <tr style=\"text-align: right;\">\n",
       "      <th></th>\n",
       "      <th>text</th>\n",
       "      <th>label</th>\n",
       "      <th>rating</th>\n",
       "    </tr>\n",
       "  </thead>\n",
       "  <tbody>\n",
       "    <tr>\n",
       "      <th>459209</th>\n",
       "      <td>I love this product! I use it in the morning t...</td>\n",
       "      <td>1.0</td>\n",
       "      <td>4</td>\n",
       "    </tr>\n",
       "    <tr>\n",
       "      <th>72173</th>\n",
       "      <td>This product leaves my skin looking and feelin...</td>\n",
       "      <td>1.0</td>\n",
       "      <td>4</td>\n",
       "    </tr>\n",
       "    <tr>\n",
       "      <th>88493</th>\n",
       "      <td>I received samples of this product to try out ...</td>\n",
       "      <td>0.0</td>\n",
       "      <td>3</td>\n",
       "    </tr>\n",
       "    <tr>\n",
       "      <th>454325</th>\n",
       "      <td>best mist i have ever used! Whenever i find my...</td>\n",
       "      <td>1.0</td>\n",
       "      <td>5</td>\n",
       "    </tr>\n",
       "    <tr>\n",
       "      <th>496125</th>\n",
       "      <td>I bought a foundation that broke out my entire...</td>\n",
       "      <td>1.0</td>\n",
       "      <td>5</td>\n",
       "    </tr>\n",
       "  </tbody>\n",
       "</table>\n",
       "</div>"
      ],
      "text/plain": [
       "                                                     text  label  rating\n",
       "459209  I love this product! I use it in the morning t...    1.0       4\n",
       "72173   This product leaves my skin looking and feelin...    1.0       4\n",
       "88493   I received samples of this product to try out ...    0.0       3\n",
       "454325  best mist i have ever used! Whenever i find my...    1.0       5\n",
       "496125  I bought a foundation that broke out my entire...    1.0       5"
      ]
     },
     "execution_count": 22,
     "metadata": {},
     "output_type": "execute_result"
    }
   ],
   "source": [
    "# Shuffle the DataFrame rows\n",
    "df = df.sample(frac=1, random_state=42)\n",
    "df.head()"
   ]
  },
  {
   "cell_type": "code",
   "execution_count": 23,
   "id": "5a5cba6d",
   "metadata": {
    "scrolled": true
   },
   "outputs": [
    {
     "name": "stdout",
     "output_type": "stream",
     "text": [
      "Positive:  50.0 %\n",
      "Negative:  50.0 %\n"
     ]
    }
   ],
   "source": [
    "#Percentage of Positive/Negative\n",
    "print(\"Positive: \", round(df.label.value_counts()[1]/len(df)*100 , 2 ),\"%\")\n",
    "print(\"Negative: \", round(df.label.value_counts()[0]/len(df)*100, 2 ),\"%\")"
   ]
  },
  {
   "cell_type": "markdown",
   "id": "df2b764d",
   "metadata": {},
   "source": [
    "Our dataset currently has a balanced distribution of reviews, so we can proceed with the data exploration 👍"
   ]
  },
  {
   "cell_type": "code",
   "execution_count": 24,
   "id": "74031cce",
   "metadata": {},
   "outputs": [
    {
     "data": {
      "text/plain": [
       "text      479\n",
       "label       0\n",
       "rating      0\n",
       "dtype: int64"
      ]
     },
     "execution_count": 24,
     "metadata": {},
     "output_type": "execute_result"
    }
   ],
   "source": [
    "df.isnull().sum()"
   ]
  },
  {
   "cell_type": "markdown",
   "id": "ecd39a44",
   "metadata": {},
   "source": [
    "Since I thought it's expected that user may rate the product without typing a text review or vice versa , so I choose to drop rows with nullable values."
   ]
  },
  {
   "cell_type": "code",
   "execution_count": 25,
   "id": "1967ed65",
   "metadata": {},
   "outputs": [
    {
     "name": "stdout",
     "output_type": "stream",
     "text": [
      "shape before : (247194, 3)\n",
      "shape after : (246715, 3)\n",
      "479  rows were dropped\n"
     ]
    }
   ],
   "source": [
    "# drop rows with nullable values\n",
    "shape_before = df.shape[0]\n",
    "print('shape before :', df.shape)\n",
    "df = df.dropna()\n",
    "shape_after = df.shape[0]\n",
    "df = df.reset_index(drop=True)\n",
    "print('shape after :', df.shape)\n",
    "\n",
    "print (shape_before-shape_after , ' rows were dropped')"
   ]
  },
  {
   "cell_type": "code",
   "execution_count": 26,
   "id": "3fbdb85b",
   "metadata": {},
   "outputs": [
    {
     "name": "stdout",
     "output_type": "stream",
     "text": [
      "Nullable Values:\n",
      " text      0\n",
      "label     0\n",
      "rating    0\n",
      "dtype: int64 \n",
      "\n",
      "\n",
      "<class 'pandas.core.frame.DataFrame'>\n",
      "RangeIndex: 246715 entries, 0 to 246714\n",
      "Data columns (total 3 columns):\n",
      " #   Column  Non-Null Count   Dtype  \n",
      "---  ------  --------------   -----  \n",
      " 0   text    246715 non-null  object \n",
      " 1   label   246715 non-null  float64\n",
      " 2   rating  246715 non-null  int64  \n",
      "dtypes: float64(1), int64(1), object(1)\n",
      "memory usage: 5.6+ MB\n"
     ]
    }
   ],
   "source": [
    "#Making sure no NN and values of columns are equally sized\n",
    "print('Nullable Values:\\n',df.isnull().sum(),'\\n\\n')\n",
    "df.info()"
   ]
  },
  {
   "cell_type": "code",
   "execution_count": 27,
   "id": "c7354202",
   "metadata": {},
   "outputs": [
    {
     "name": "stdout",
     "output_type": "stream",
     "text": [
      "<class 'pandas.core.frame.DataFrame'>\n",
      "RangeIndex: 246715 entries, 0 to 246714\n",
      "Data columns (total 3 columns):\n",
      " #   Column  Non-Null Count   Dtype \n",
      "---  ------  --------------   ----- \n",
      " 0   text    246715 non-null  object\n",
      " 1   label   246715 non-null  int32 \n",
      " 2   rating  246715 non-null  int64 \n",
      "dtypes: int32(1), int64(1), object(1)\n",
      "memory usage: 4.7+ MB\n"
     ]
    }
   ],
   "source": [
    "#Convert single column to int dtype.\n",
    "df['label'] = df['label'].astype('int')\n",
    "# ensure the casting happened\n",
    "df.info()"
   ]
  },
  {
   "cell_type": "code",
   "execution_count": 28,
   "id": "5db9d7fe",
   "metadata": {},
   "outputs": [],
   "source": [
    "# check samples of reviews \n",
    "def display_review(index_lst):\n",
    "     for i in index_lst:\n",
    "            display(HTML(f\"<h5><b style='color:red'>Review: </b>{df['text'][i]}</h5>\"))\n",
    "            label = \"negative\" if df['label'][i] ==0 else \"positive\" \n",
    "            display(HTML(f\"<h5><b style='color:red'>Target: </b>{label}</h5>\"))\n",
    "            display(HTML(f\"<h5><b style='color:red'>Rating: </b>{df['rating'][i]}<br><hr></h5>\"))       "
   ]
  },
  {
   "cell_type": "code",
   "execution_count": 29,
   "id": "817a7060",
   "metadata": {},
   "outputs": [],
   "source": [
    "from IPython.display import HTML\n"
   ]
  },
  {
   "cell_type": "code",
   "execution_count": 30,
   "id": "c58fd44e",
   "metadata": {},
   "outputs": [
    {
     "data": {
      "text/html": [
       "<h5><b style='color:red'>Review: </b>I love the consistency and smell of this serum. The packaging is 10/10. So far it has left my skin feeling smooth and looking clear. I would recommend this serum to a friend. It feels very luxurious.</h5>"
      ],
      "text/plain": [
       "<IPython.core.display.HTML object>"
      ]
     },
     "metadata": {},
     "output_type": "display_data"
    },
    {
     "data": {
      "text/html": [
       "<h5><b style='color:red'>Target: </b>positive</h5>"
      ],
      "text/plain": [
       "<IPython.core.display.HTML object>"
      ]
     },
     "metadata": {},
     "output_type": "display_data"
    },
    {
     "data": {
      "text/html": [
       "<h5><b style='color:red'>Rating: </b>5<br><hr></h5>"
      ],
      "text/plain": [
       "<IPython.core.display.HTML object>"
      ]
     },
     "metadata": {},
     "output_type": "display_data"
    },
    {
     "data": {
      "text/html": [
       "<h5><b style='color:red'>Review: </b>My lips were a MESS when I went in the store looking for something to fix them. Dry, flaking, cracked (from the cold weather, and I had just gotten filler). The cast member suggested this, I started using it and my lips were healed within 48 hours. Love this stuff!!</h5>"
      ],
      "text/plain": [
       "<IPython.core.display.HTML object>"
      ]
     },
     "metadata": {},
     "output_type": "display_data"
    },
    {
     "data": {
      "text/html": [
       "<h5><b style='color:red'>Target: </b>positive</h5>"
      ],
      "text/plain": [
       "<IPython.core.display.HTML object>"
      ]
     },
     "metadata": {},
     "output_type": "display_data"
    },
    {
     "data": {
      "text/html": [
       "<h5><b style='color:red'>Rating: </b>5<br><hr></h5>"
      ],
      "text/plain": [
       "<IPython.core.display.HTML object>"
      ]
     },
     "metadata": {},
     "output_type": "display_data"
    },
    {
     "data": {
      "text/html": [
       "<h5><b style='color:red'>Review: </b>Feels really nice on my lips and doesn’t get sticky. There is also a lot of product so it lasts a really long time. I even use during the day under my lipstick and it makes it more plump.</h5>"
      ],
      "text/plain": [
       "<IPython.core.display.HTML object>"
      ]
     },
     "metadata": {},
     "output_type": "display_data"
    },
    {
     "data": {
      "text/html": [
       "<h5><b style='color:red'>Target: </b>positive</h5>"
      ],
      "text/plain": [
       "<IPython.core.display.HTML object>"
      ]
     },
     "metadata": {},
     "output_type": "display_data"
    },
    {
     "data": {
      "text/html": [
       "<h5><b style='color:red'>Rating: </b>5<br><hr></h5>"
      ],
      "text/plain": [
       "<IPython.core.display.HTML object>"
      ]
     },
     "metadata": {},
     "output_type": "display_data"
    },
    {
     "data": {
      "text/html": [
       "<h5><b style='color:red'>Review: </b>One full size bottle lasts me a whole year.  It’s a more expensive toner but totally worth it if you want a glowy and dewy look.  Great for my dry skin and makes my skin bouncy and bright.  Pair it with the dew drops and I get the BEST glow, love it!!!</h5>"
      ],
      "text/plain": [
       "<IPython.core.display.HTML object>"
      ]
     },
     "metadata": {},
     "output_type": "display_data"
    },
    {
     "data": {
      "text/html": [
       "<h5><b style='color:red'>Target: </b>positive</h5>"
      ],
      "text/plain": [
       "<IPython.core.display.HTML object>"
      ]
     },
     "metadata": {},
     "output_type": "display_data"
    },
    {
     "data": {
      "text/html": [
       "<h5><b style='color:red'>Rating: </b>5<br><hr></h5>"
      ],
      "text/plain": [
       "<IPython.core.display.HTML object>"
      ]
     },
     "metadata": {},
     "output_type": "display_data"
    },
    {
     "data": {
      "text/html": [
       "<h5><b style='color:red'>Review: </b>I bought this yesterday, and it’s absolutely incredible! It gives a light, natural tint and is incredibly moisturizing! Also gives a nice gloss if you like that kind of stuff. Definitely recommend!</h5>"
      ],
      "text/plain": [
       "<IPython.core.display.HTML object>"
      ]
     },
     "metadata": {},
     "output_type": "display_data"
    },
    {
     "data": {
      "text/html": [
       "<h5><b style='color:red'>Target: </b>positive</h5>"
      ],
      "text/plain": [
       "<IPython.core.display.HTML object>"
      ]
     },
     "metadata": {},
     "output_type": "display_data"
    },
    {
     "data": {
      "text/html": [
       "<h5><b style='color:red'>Rating: </b>5<br><hr></h5>"
      ],
      "text/plain": [
       "<IPython.core.display.HTML object>"
      ]
     },
     "metadata": {},
     "output_type": "display_data"
    }
   ],
   "source": [
    "# generate an array or randome integers\n",
    "index_lst= np.random.randint(1,len(df) ,5)\n",
    "display_review(index_lst)"
   ]
  },
  {
   "cell_type": "markdown",
   "id": "5d9eaa45",
   "metadata": {},
   "source": [
    "# Analyze & Visualize Data 🧐 🔍 📈 📊\n",
    "Now , we are going to explore our train data to gain some insights 💡"
   ]
  },
  {
   "cell_type": "code",
   "execution_count": 31,
   "id": "0c256b5c",
   "metadata": {},
   "outputs": [
    {
     "data": {
      "text/plain": [
       "0    123399\n",
       "1    123316\n",
       "Name: label, dtype: int64"
      ]
     },
     "execution_count": 31,
     "metadata": {},
     "output_type": "execute_result"
    }
   ],
   "source": [
    "#sentiment count in order to check data balance\n",
    "df['label'].value_counts()"
   ]
  },
  {
   "cell_type": "code",
   "execution_count": 32,
   "id": "80f0b95d",
   "metadata": {},
   "outputs": [
    {
     "data": {
      "image/png": "[encoded data removed]",
      "text/plain": [
       "<Figure size 300x300 with 1 Axes>"
      ]
     },
     "metadata": {},
     "output_type": "display_data"
    }
   ],
   "source": [
    "#Generating a countplot for target label\n",
    "plt.figure(figsize=(3,3))\n",
    "sns.barplot(x=df['label'].value_counts().index,y=df['label'].value_counts())\n",
    "plt.title('Review Count')\n",
    "plt.xlabel('Review')\n",
    "plt.ylabel('Count');"
   ]
  },
  {
   "cell_type": "code",
   "execution_count": 33,
   "id": "84fe0461",
   "metadata": {},
   "outputs": [
    {
     "data": {
      "image/png": "[encoded data removed]",
      "text/plain": [
       "<Figure size 1000x300 with 1 Axes>"
      ]
     },
     "metadata": {},
     "output_type": "display_data"
    }
   ],
   "source": [
    "plt.figure(figsize=(10,3))\n",
    "colors=['#AB47BC','#6495ED']\n",
    "plt.pie(df['label'].value_counts(),labels=['Positive','Negative'],autopct='%.2f%%',explode=[0.01,0.01],colors=colors);\n",
    "plt.title('Distribution of target')\n",
    "plt.ylabel('Sentiment');"
   ]
  },
  {
   "cell_type": "code",
   "execution_count": 34,
   "id": "ad27f289",
   "metadata": {},
   "outputs": [
    {
     "data": {
      "image/png": "[encoded data removed]",
      "text/plain": [
       "<Figure size 2000x300 with 1 Axes>"
      ]
     },
     "metadata": {},
     "output_type": "display_data"
    }
   ],
   "source": [
    "df['text_word_count']=df['text'].apply(lambda x:len(x.split()))\n",
    "\n",
    "numerical_feature_cols=['text_word_count']\n",
    "plt.figure(figsize=(20,3))\n",
    "for i,col in enumerate(numerical_feature_cols):\n",
    "    plt.subplot(1,3,i+1)\n",
    "    sns.histplot(data=df,x=col,bins=50,color='#6495ED')\n",
    "    plt.title(f\"Distribution of Various word counts\")\n",
    "plt.tight_layout()\n",
    "plt.show()"
   ]
  },
  {
   "cell_type": "markdown",
   "id": "185ff1d4",
   "metadata": {},
   "source": [
    " 💡: The distribution of text word count is Right skewed and contains a lot of outliers."
   ]
  },
  {
   "cell_type": "code",
   "execution_count": 35,
   "id": "51f8f4a3",
   "metadata": {},
   "outputs": [
    {
     "data": {
      "image/png": "[encoded data removed]",
      "text/plain": [
       "<Figure size 2000x300 with 1 Axes>"
      ]
     },
     "metadata": {},
     "output_type": "display_data"
    }
   ],
   "source": [
    "plt.figure(figsize=(20,3))\n",
    "for i,col in enumerate(numerical_feature_cols):\n",
    "    plt.subplot(1,3,i+1)\n",
    "    sns.histplot(data=df,x=col,hue='label',bins=50)\n",
    "    plt.title(f\"Distribution of Various word counts with respect to target\")\n",
    "plt.tight_layout()\n",
    "plt.show()"
   ]
  },
  {
   "cell_type": "code",
   "execution_count": 36,
   "id": "51c8ba6c",
   "metadata": {},
   "outputs": [],
   "source": [
    "#Removing the html strips\n",
    "def strip_html(text):\n",
    "    soup = BeautifulSoup(text, \"html.parser\")\n",
    "    return soup.get_text()\n",
    "\n",
    "#Removing the square brackets\n",
    "def remove_between_square_brackets(text):\n",
    "    return re.sub('\\[[^]]*\\]', '', text)\n",
    "\n",
    "#Removing the noisy text\n",
    "def denoise_text(text):\n",
    "    text = strip_html(text)\n",
    "    text = remove_between_square_brackets(text)\n",
    "    return text\n",
    "\n",
    "#Removing special characters\n",
    "def remove_special_characters(text, remove_digits=True):\n",
    "    pattern=r'[^a-zA-z0-9\\s]'\n",
    "    text=re.sub(pattern,'',text)\n",
    "    return text\n",
    "\n",
    "#Stemming the text\n",
    "def simple_stemmer(text):\n",
    "    ps=nltk.porter.PorterStemmer()\n",
    "    text= ' '.join([ps.stem(word) for word in text.split()])\n",
    "    return text\n",
    "\n",
    "\n",
    "#Setting English stopwords\n",
    "stopword_list=nltk.corpus.stopwords.words('english')\n",
    "stop=set(stopwords.words('english'))\n",
    "\n",
    "#Tokenization of text\n",
    "tokenizer=ToktokTokenizer()\n",
    "\n",
    "#removing the stopwords\n",
    "def remove_stopwords(text, is_lower_case=False):\n",
    "    tokens = tokenizer.tokenize(text)\n",
    "    tokens = [token.strip() for token in tokens]\n",
    "    if is_lower_case:\n",
    "        filtered_tokens = [token for token in tokens if token not in stopword_list]\n",
    "    else:\n",
    "        filtered_tokens = [token for token in tokens if token.lower() not in stopword_list]\n",
    "    filtered_text = ' '.join(filtered_tokens)    \n",
    "    return filtered_text"
   ]
  },
  {
   "cell_type": "code",
   "execution_count": 37,
   "id": "9685972b",
   "metadata": {},
   "outputs": [],
   "source": [
    "import re"
   ]
  },
  {
   "cell_type": "code",
   "execution_count": 38,
   "id": "fc24ec9e",
   "metadata": {
    "collapsed": true
   },
   "outputs": [
    {
     "name": "stdout",
     "output_type": "stream",
     "text": [
      "BEFORE (denoise_text).. \n",
      " I received samples of this product to try out so I was unable to test for long lasting effects. However, I would probably just opt for the face serum and place it in the eye area rather than buying a separate serum.\n"
     ]
    },
    {
     "name": "stderr",
     "output_type": "stream",
     "text": [
      "C:\\Users\\91777\\anaconda3\\lib\\site-packages\\bs4\\__init__.py:435: MarkupResemblesLocatorWarning: The input looks more like a filename than markup. You may want to open this file and pass the filehandle into Beautiful Soup.\n",
      "  warnings.warn(\n",
      "C:\\Users\\91777\\anaconda3\\lib\\site-packages\\bs4\\__init__.py:404: MarkupResemblesLocatorWarning: The input looks more like a URL than markup. You may want to use an HTTP client like requests to get the document behind the URL, and feed that document to Beautiful Soup.\n",
      "  warnings.warn(\n"
     ]
    },
    {
     "name": "stdout",
     "output_type": "stream",
     "text": [
      "\n",
      " AFTER (denoise_text).. \n",
      "  I received samples of this product to try out so I was unable to test for long lasting effects. However, I would probably just opt for the face serum and place it in the eye area rather than buying a separate serum.\n"
     ]
    }
   ],
   "source": [
    "#Apply function on review column\n",
    "# html strips & square brackets were removed from the original text\n",
    "print ('BEFORE (denoise_text).. \\n',df['text'][2])\n",
    "df['text']=df['text'].apply(denoise_text)\n",
    "print ('\\n AFTER (denoise_text).. \\n ',df['text'][2])"
   ]
  },
  {
   "cell_type": "markdown",
   "id": "97c19048",
   "metadata": {},
   "source": [
    "# Stemming & Lemmatization reviws text"
   ]
  },
  {
   "cell_type": "code",
   "execution_count": 39,
   "id": "0fef93b6",
   "metadata": {},
   "outputs": [
    {
     "name": "stdout",
     "output_type": "stream",
     "text": [
      "BEFORE (simple_stemmer).. \n",
      " I received samples of this product to try out so I was unable to test for long lasting effects. However, I would probably just opt for the face serum and place it in the eye area rather than buying a separate serum.\n",
      "\n",
      " AFTER (simple_stemmer) .. \n",
      " i receiv sampl of thi product to tri out so i wa unabl to test for long last effects. however, i would probabl just opt for the face serum and place it in the eye area rather than buy a separ serum.\n"
     ]
    }
   ],
   "source": [
    "print ('BEFORE (simple_stemmer).. \\n',df['text'][2])\n",
    "df['text']=df['text'].apply(simple_stemmer)\n",
    "print ('\\n AFTER (simple_stemmer) .. \\n',df['text'][2])"
   ]
  },
  {
   "cell_type": "markdown",
   "id": "23588962",
   "metadata": {},
   "source": [
    "# Stop Words Removal"
   ]
  },
  {
   "cell_type": "code",
   "execution_count": 40,
   "id": "702be01c",
   "metadata": {},
   "outputs": [
    {
     "name": "stdout",
     "output_type": "stream",
     "text": [
      "BEFORE (remove_stopwords).. \n",
      " i receiv sampl of thi product to tri out so i wa unabl to test for long last effects. however, i would probabl just opt for the face serum and place it in the eye area rather than buy a separ serum.\n",
      "AFTER (remove_stopwords) .. \n",
      " receiv sampl thi product tri wa unabl test long last effects. however , would probabl opt face serum place eye area rather buy separ serum .\n"
     ]
    }
   ],
   "source": [
    "print ('BEFORE (remove_stopwords).. \\n',df['text'][2])\n",
    "df['text']=df['text'].apply(remove_stopwords)\n",
    "print ('AFTER (remove_stopwords) .. \\n',df['text'][2])"
   ]
  },
  {
   "cell_type": "markdown",
   "id": "59322d09",
   "metadata": {},
   "source": [
    "# Train | Validation | Test Sets "
   ]
  },
  {
   "cell_type": "code",
   "execution_count": 41,
   "id": "8118741b",
   "metadata": {},
   "outputs": [],
   "source": [
    "# set aside 10% of data for test\n",
    "df_train , df_test = train_test_split(df , test_size=0.10, shuffle = True, random_state = RANDOM_STATE)\n",
    "\n",
    "# Using the same function above for the validation set , # set aside 20% of train data for validation\n",
    "df_train , df_validation = train_test_split(df_train, test_size=0.25, random_state= RANDOM_STATE) "
   ]
  },
  {
   "cell_type": "code",
   "execution_count": 42,
   "id": "152501fe",
   "metadata": {},
   "outputs": [],
   "source": [
    "#splitting data into (Features and Target)\n",
    "def split_data (DATA_SET):\n",
    "\n",
    "    # Initializing sentences and labels lists\n",
    "    sentences = []\n",
    "    labels = []\n",
    "\n",
    "    # Loop over all  examples and save the sentences and labels\n",
    "    for s,l in DATA_SET:\n",
    "      sentences.append(s)\n",
    "      labels.append(l)\n",
    "\n",
    "    # Convert labels lists to numpy array\n",
    "    labels_final = np.array(labels)\n",
    "\n",
    "    return sentences, labels_final\n",
    "\n",
    "    \n",
    "train_sentences , train_labels  = split_data(df_train[['text','label']].values)\n",
    "validation_sentences , validation_labels = split_data(df_validation[['text','label']].values)"
   ]
  },
  {
   "cell_type": "code",
   "execution_count": 43,
   "id": "745210b3",
   "metadata": {},
   "outputs": [
    {
     "name": "stdout",
     "output_type": "stream",
     "text": [
      "Original set   --->  (246715, 4) \n",
      "Training set   --->  166532 , 166532 \n",
      "Validation set --->  55511 , 55511 \n",
      "Testing set    --->  (24672, 4)\n"
     ]
    }
   ],
   "source": [
    "print('Original set   ---> ',df.shape,\n",
    "      '\\nTraining set   ---> ',len(train_sentences),',',len(train_labels),\n",
    "      '\\nValidation set ---> ', len(validation_sentences),',', len(validation_labels),\n",
    "      '\\nTesting set    ---> ', df_test.shape)"
   ]
  },
  {
   "cell_type": "markdown",
   "id": "ec98b723",
   "metadata": {},
   "source": [
    "# Bulid & Train Model"
   ]
  },
  {
   "cell_type": "code",
   "execution_count": 44,
   "id": "30d34732",
   "metadata": {},
   "outputs": [],
   "source": [
    "# Vocabulary size of the tokenizer\n",
    "vocab_size = 10000\n",
    "# Maximum length of the padded sequences\n",
    "max_length = 32\n",
    "# Output dimensions of the Embedding layer\n",
    "embedding_dim = 16\n",
    "# Dimensions of the LSTM layer\n",
    "lstm_dim = 32\n",
    "# Dimensions of the Dense layer\n",
    "dense_dim = 6\n",
    "\n",
    "NUM_EPOCHS = 20\n",
    "BATCH_SIZE = 256\n",
    "\n",
    "# Parameters for padding and OOV tokens\n",
    "trunc_type='post'\n",
    "padding_type='post'\n",
    "oov_tok = \"<OOV>\""
   ]
  },
  {
   "cell_type": "markdown",
   "id": "d856731f",
   "metadata": {},
   "source": [
    "# Tokenization "
   ]
  },
  {
   "cell_type": "code",
   "execution_count": 45,
   "id": "07f2d6b0",
   "metadata": {},
   "outputs": [],
   "source": [
    "# Initializing the Tokenizer class\n",
    "tokenizer = Tokenizer(num_words=vocab_size, oov_token=oov_tok)\n",
    "\n",
    "# Generate the word index dictionary\n",
    "tokenizer.fit_on_texts(train_sentences)\n",
    "word_index = tokenizer.word_index\n",
    "\n",
    "# Generate and pad the training sequences\n",
    "training_sequences = tokenizer.texts_to_sequences(train_sentences)\n",
    "training_padded = pad_sequences(training_sequences, maxlen=max_length, padding=padding_type, truncating=trunc_type)\n",
    "\n",
    "# Generate and pad the testing sequences\n",
    "validation_sequences = tokenizer.texts_to_sequences(validation_sentences)\n",
    "validation_padded = pad_sequences(validation_sequences, maxlen=max_length, padding=padding_type, truncating=trunc_type)\n",
    "\n",
    "# Convert the labels lists into numpy arrays\n",
    "training_labels = np.array(train_labels)\n",
    "validation_labels = np.array(validation_labels)"
   ]
  },
  {
   "cell_type": "code",
   "execution_count": 46,
   "id": "fef27867",
   "metadata": {},
   "outputs": [],
   "source": [
    "import tensorflow as tf"
   ]
  },
  {
   "cell_type": "code",
   "execution_count": 47,
   "id": "492e4015",
   "metadata": {},
   "outputs": [],
   "source": [
    "# Build the model\n",
    "model_lstm = tf.keras.Sequential ([\n",
    "    tf.keras.layers.Embedding(vocab_size, embedding_dim, input_length=max_length),\n",
    "    tf.keras.layers.SpatialDropout1D(0.4),\n",
    "    tf.keras.layers.Bidirectional(tf.keras.layers.LSTM(lstm_dim)),\n",
    "    tf.keras.layers.Dense(dense_dim, activation='relu'),\n",
    "    tf.keras.layers.Dense(1, activation='sigmoid')\n",
    "])\n",
    "\n",
    "# Setting  the training parameters\n",
    "model_lstm.compile(loss='binary_crossentropy',optimizer='adam',metrics=['accuracy'])"
   ]
  },
  {
   "cell_type": "code",
   "execution_count": 48,
   "id": "38048fb8",
   "metadata": {},
   "outputs": [],
   "source": [
    "import keras"
   ]
  },
  {
   "cell_type": "code",
   "execution_count": 49,
   "id": "06911252",
   "metadata": {},
   "outputs": [
    {
     "name": "stdout",
     "output_type": "stream",
     "text": [
      "Epoch 1/20\n",
      "5205/5205 - 86s - loss: 0.3537 - accuracy: 0.8465 - val_loss: 0.3104 - val_accuracy: 0.8693 - 86s/epoch - 16ms/step\n",
      "Epoch 2/20\n",
      "5205/5205 - 75s - loss: 0.3032 - accuracy: 0.8735 - val_loss: 0.2949 - val_accuracy: 0.8753 - 75s/epoch - 14ms/step\n",
      "Epoch 3/20\n",
      "5205/5205 - 79s - loss: 0.2837 - accuracy: 0.8831 - val_loss: 0.2865 - val_accuracy: 0.8823 - 79s/epoch - 15ms/step\n",
      "Epoch 4/20\n",
      "5205/5205 - 77s - loss: 0.2703 - accuracy: 0.8896 - val_loss: 0.2785 - val_accuracy: 0.8852 - 77s/epoch - 15ms/step\n",
      "Epoch 5/20\n",
      "5205/5205 - 76s - loss: 0.2600 - accuracy: 0.8943 - val_loss: 0.2787 - val_accuracy: 0.8849 - 76s/epoch - 15ms/step\n",
      "Epoch 6/20\n",
      "5205/5205 - 82s - loss: 0.2516 - accuracy: 0.8984 - val_loss: 0.2891 - val_accuracy: 0.8855 - 82s/epoch - 16ms/step\n",
      "Epoch 7/20\n",
      "5205/5205 - 87s - loss: 0.2451 - accuracy: 0.9005 - val_loss: 0.2731 - val_accuracy: 0.8884 - 87s/epoch - 17ms/step\n",
      "Epoch 8/20\n",
      "5205/5205 - 75s - loss: 0.2389 - accuracy: 0.9048 - val_loss: 0.2749 - val_accuracy: 0.8872 - 75s/epoch - 14ms/step\n",
      "Epoch 9/20\n",
      "5205/5205 - 74s - loss: 0.2331 - accuracy: 0.9061 - val_loss: 0.2841 - val_accuracy: 0.8876 - 74s/epoch - 14ms/step\n",
      "Epoch 10/20\n",
      "5205/5205 - 158s - loss: 0.2276 - accuracy: 0.9086 - val_loss: 0.2738 - val_accuracy: 0.8899 - 158s/epoch - 30ms/step\n",
      "Epoch 11/20\n",
      "5205/5205 - 76s - loss: 0.2238 - accuracy: 0.9110 - val_loss: 0.2734 - val_accuracy: 0.8910 - 76s/epoch - 15ms/step\n",
      "Epoch 12/20\n",
      "5205/5205 - 82s - loss: 0.2197 - accuracy: 0.9115 - val_loss: 0.2729 - val_accuracy: 0.8905 - 82s/epoch - 16ms/step\n",
      "Epoch 13/20\n",
      "5205/5205 - 71s - loss: 0.2171 - accuracy: 0.9129 - val_loss: 0.2814 - val_accuracy: 0.8917 - 71s/epoch - 14ms/step\n",
      "Epoch 14/20\n",
      "5205/5205 - 65s - loss: 0.2133 - accuracy: 0.9147 - val_loss: 0.2738 - val_accuracy: 0.8917 - 65s/epoch - 12ms/step\n",
      "Epoch 15/20\n",
      "5205/5205 - 58s - loss: 0.2112 - accuracy: 0.9159 - val_loss: 0.2842 - val_accuracy: 0.8925 - 58s/epoch - 11ms/step\n",
      "Epoch 16/20\n",
      "5205/5205 - 58s - loss: 0.2078 - accuracy: 0.9171 - val_loss: 0.2853 - val_accuracy: 0.8928 - 58s/epoch - 11ms/step\n",
      "Epoch 17/20\n",
      "5205/5205 - 58s - loss: 0.2052 - accuracy: 0.9178 - val_loss: 0.2796 - val_accuracy: 0.8923 - 58s/epoch - 11ms/step\n",
      "Epoch 18/20\n",
      "5205/5205 - 59s - loss: 0.2029 - accuracy: 0.9194 - val_loss: 0.2938 - val_accuracy: 0.8926 - 59s/epoch - 11ms/step\n",
      "Epoch 19/20\n",
      "5205/5205 - 58s - loss: 0.2001 - accuracy: 0.9204 - val_loss: 0.2849 - val_accuracy: 0.8931 - 58s/epoch - 11ms/step\n",
      "Epoch 20/20\n",
      "5205/5205 - 61s - loss: 0.1993 - accuracy: 0.9203 - val_loss: 0.2892 - val_accuracy: 0.8906 - 61s/epoch - 12ms/step\n"
     ]
    }
   ],
   "source": [
    "# Train the model\n",
    "history_lstm = model_lstm.fit(training_padded,\n",
    "                              training_labels, \n",
    "                              epochs=NUM_EPOCHS, \n",
    "                              validation_data=(validation_padded, validation_labels),\n",
    "                              verbose = 2)"
   ]
  },
  {
   "cell_type": "markdown",
   "id": "725c16da",
   "metadata": {},
   "source": [
    "# Results"
   ]
  },
  {
   "cell_type": "code",
   "execution_count": 51,
   "id": "b4be07f0",
   "metadata": {},
   "outputs": [
    {
     "data": {
      "image/png": "[encoded data removed]",
      "text/plain": [
       "<Figure size 2000x500 with 2 Axes>"
      ]
     },
     "metadata": {},
     "output_type": "display_data"
    }
   ],
   "source": [
    "def plot_loss_curves(history):\n",
    "    \n",
    "    '''\n",
    "      returns seperate loss curves for training and validation metrics\n",
    "    '''\n",
    "\n",
    "    train_loss=history.history['loss']\n",
    "    val_loss=history.history['val_loss']\n",
    "\n",
    "    train_accuracy=history.history['accuracy']\n",
    "    val_accuracy=history.history['val_accuracy']\n",
    "\n",
    "    epochs=range(1,len(history.history['loss'])+1)\n",
    "    plt.figure(figsize=(20,5))\n",
    "\n",
    "    # plot loss data\n",
    "    plt.subplot(1,2,2)\n",
    "    plt.plot(epochs,train_loss,label=\"training_loss\")\n",
    "    plt.plot(epochs,val_loss,label=\"validation_loss\")\n",
    "    plt.title(\"Loss curves\",size=20)\n",
    "    plt.xlabel('epochs',size=20)\n",
    "    plt.ylabel('loss',size=20)\n",
    "    plt.legend(fontsize=15);\n",
    "    # plt.show()\n",
    "\n",
    "    \n",
    "    # plot accuracy data\n",
    "    plt.subplot(1,2,1)\n",
    "    plt.plot(epochs,train_accuracy,label=\"training_acc\")\n",
    "    plt.plot(epochs,val_accuracy,label=\"validation_acc\")\n",
    "    plt.title(\"Accuracy curves\",size=20)\n",
    "    plt.xlabel('epochs',size=20)\n",
    "    plt.ylabel('Accuracy',size=20)\n",
    "    plt.tight_layout()\n",
    "    plt.legend(fontsize=15);\n",
    "\n",
    "\n",
    "\n",
    "    plt.title('Model Performance Curves')\n",
    "\n",
    "\n",
    "plot_loss_curves(history_lstm)"
   ]
  },
  {
   "cell_type": "markdown",
   "id": "c3ee05b4",
   "metadata": {},
   "source": [
    "Inference 💡: We may notice overfitting because validation accuracy is slowly dropping while the training accuracy is still going up.\n"
   ]
  },
  {
   "cell_type": "markdown",
   "id": "4f8e8224",
   "metadata": {},
   "source": [
    "\n",
    "# Test Model \n",
    " Ps --> Performed the model tetsting on some random records in my dataset "
   ]
  },
  {
   "cell_type": "code",
   "execution_count": 54,
   "id": "596c887c",
   "metadata": {},
   "outputs": [],
   "source": [
    "def review_test(index , test_df):\n",
    "\n",
    "  text = test_df['text'].values[index]\n",
    "  display(HTML(f\"<h5><b style='color:red'>Text: </b>{text}</h5>\"))\n",
    "\n",
    "\n",
    "  true_label = test_df['label'].values[index]\n",
    "  true_val = \"negative\" if true_label == 0 else \"positive\"\n",
    "  display(HTML(f\"<h5><b style='color:red'>Actual: </b>{true_val}</h5>\"))\n",
    "\n",
    "  #vectorizing the text by the pre-fitted tokenizer instance\n",
    "  text = tokenizer.texts_to_sequences(text)\n",
    "\n",
    "  #padding the text to have exactly the same shape as `embedding` input\n",
    "  text = pad_sequences(text, maxlen=max_length, dtype='int32', value=0)\n",
    "\n",
    "\n",
    "  sentiment = model_lstm.predict(text,batch_size=1,verbose = 2)[0]\n",
    "  pred_val = \"negative\" if sentiment == 0 else \"positive\"\n",
    "  display(HTML(f\"<h5><b style='color:red'>Predicted: </b>{pred_val}</h5>\"))"
   ]
  },
  {
   "cell_type": "code",
   "execution_count": 55,
   "id": "1d8aca09",
   "metadata": {},
   "outputs": [
    {
     "data": {
      "text/html": [
       "<h5><b style='color:red'>Text: </b>thi cream wa pleasant surprise ! ’ nice basic everyday moistur seem like would work everi skin type. textur smooth thick , deepli moistur yet heavy. ’ much scent. feel veri refreshing. saw esthetician two week use everi night , said skin look much healthier gener .</h5>"
      ],
      "text/plain": [
       "<IPython.core.display.HTML object>"
      ]
     },
     "metadata": {},
     "output_type": "display_data"
    },
    {
     "data": {
      "text/html": [
       "<h5><b style='color:red'>Actual: </b>positive</h5>"
      ],
      "text/plain": [
       "<IPython.core.display.HTML object>"
      ]
     },
     "metadata": {},
     "output_type": "display_data"
    },
    {
     "name": "stdout",
     "output_type": "stream",
     "text": [
      "265/265 - 1s - 1s/epoch - 4ms/step\n"
     ]
    },
    {
     "data": {
      "text/html": [
       "<h5><b style='color:red'>Predicted: </b>positive</h5>"
      ],
      "text/plain": [
       "<IPython.core.display.HTML object>"
      ]
     },
     "metadata": {},
     "output_type": "display_data"
    }
   ],
   "source": [
    "review_test(200,df_test)"
   ]
  },
  {
   "cell_type": "code",
   "execution_count": 56,
   "id": "47bbed18",
   "metadata": {},
   "outputs": [
    {
     "data": {
      "text/html": [
       "<h5><b style='color:red'>Text: </b>thi serious best lip balm ’ v ever tried ! ! ! onli feel like “it ” girl use swear god look bomb ! ’ give much chapstick look ’ like gloss look !</h5>"
      ],
      "text/plain": [
       "<IPython.core.display.HTML object>"
      ]
     },
     "metadata": {},
     "output_type": "display_data"
    },
    {
     "data": {
      "text/html": [
       "<h5><b style='color:red'>Actual: </b>positive</h5>"
      ],
      "text/plain": [
       "<IPython.core.display.HTML object>"
      ]
     },
     "metadata": {},
     "output_type": "display_data"
    },
    {
     "name": "stdout",
     "output_type": "stream",
     "text": [
      "145/145 - 0s - 257ms/epoch - 2ms/step\n"
     ]
    },
    {
     "data": {
      "text/html": [
       "<h5><b style='color:red'>Predicted: </b>positive</h5>"
      ],
      "text/plain": [
       "<IPython.core.display.HTML object>"
      ]
     },
     "metadata": {},
     "output_type": "display_data"
    }
   ],
   "source": [
    "review_test(250,df_test)"
   ]
  },
  {
   "cell_type": "code",
   "execution_count": 61,
   "id": "8e8c0c15",
   "metadata": {},
   "outputs": [
    {
     "data": {
      "text/html": [
       "<h5><b style='color:red'>Text: </b>love thi product , whi ’ give 5 star deserves. ’ second bottle , want write remind peopl use thi carefully , 30 % aha pretti potent could get chemic burn like last night bc use properly.aft wax upper/low lip , reach thi becaus sinc last use , want shrink blackheads/por across nose/cheeks. however , avoid area face waxed , bc got mild chemic burn area fresh , new skin corner lips ... noth ’ fix use aquaphor , cetaphil cream , sunscreen , still , smarter avoid damage. blackheads/por nose/cheek much smaller though , least ’ win. rememb thi use alon stay safe side. would also avoid use thi combin ani activ ingredi ( vitamin c , vitamin ( retinol/retinoids ) , etc. ) . learn lesson last night , rememb avoid use exfoliating/faci waxing , too. hope thi helps !</h5>"
      ],
      "text/plain": [
       "<IPython.core.display.HTML object>"
      ]
     },
     "metadata": {},
     "output_type": "display_data"
    },
    {
     "data": {
      "text/html": [
       "<h5><b style='color:red'>Actual: </b>positive</h5>"
      ],
      "text/plain": [
       "<IPython.core.display.HTML object>"
      ]
     },
     "metadata": {},
     "output_type": "display_data"
    },
    {
     "name": "stdout",
     "output_type": "stream",
     "text": [
      "763/763 - 1s - 1s/epoch - 2ms/step\n"
     ]
    },
    {
     "data": {
      "text/html": [
       "<h5><b style='color:red'>Predicted: </b>positive</h5>"
      ],
      "text/plain": [
       "<IPython.core.display.HTML object>"
      ]
     },
     "metadata": {},
     "output_type": "display_data"
    }
   ],
   "source": [
    "review_test(2530, df_test)"
   ]
  },
  {
   "cell_type": "markdown",
   "id": "a3876626",
   "metadata": {},
   "source": [
    "# Accuracy , Recall , F1-Score "
   ]
  },
  {
   "cell_type": "code",
   "execution_count": 65,
   "id": "52eb88e5",
   "metadata": {},
   "outputs": [
    {
     "name": "stdout",
     "output_type": "stream",
     "text": [
      "Accuracy: 0.890634298324585\n"
     ]
    }
   ],
   "source": [
    "from sklearn.metrics import recall_score\n",
    "accuracy = history_lstm.history['val_accuracy'][-1]\n",
    "print(\"Accuracy:\", accuracy)\n",
    "\n"
   ]
  },
  {
   "cell_type": "code",
   "execution_count": 70,
   "id": "8632b6bb",
   "metadata": {},
   "outputs": [
    {
     "name": "stdout",
     "output_type": "stream",
     "text": [
      "1735/1735 [==============================] - 8s 3ms/step\n",
      "Recall: 0.8728367464666859\n",
      "F1 Score: 0.8885830167556754\n",
      "Confusion Matrix:\n",
      "[[25231  2544]\n",
      " [ 3527 24209]]\n"
     ]
    }
   ],
   "source": [
    "predictions = model_lstm.predict(validation_padded)\n",
    "predicted_classes = (predictions > 0.5).astype(int)\n",
    "\n",
    "from sklearn.metrics import recall_score, f1_score, confusion_matrix\n",
    "\n",
    "recall = recall_score(validation_labels, predicted_classes)\n",
    "f1 = f1_score(validation_labels, predicted_classes)\n",
    "conf_matrix = confusion_matrix(validation_labels, predicted_classes)\n",
    "\n",
    "print(\"Recall:\", recall)\n",
    "print(\"F1 Score:\", f1)\n",
    "print(\"Confusion Matrix:\")\n",
    "print(conf_matrix)\n"
   ]
  },
  {
   "cell_type": "markdown",
   "id": "f808f947",
   "metadata": {},
   "source": [
    "**The trained model exhibits positive behavior in sentiment analysis as it demonstrates high accuracy and effectiveness in classifying text sentiments. It effectively distinguishes between positive and negative sentiments, with a notable number of true positive and true negative predictions. The model's precision and recall values are well-balanced, indicating a good trade-off between correctly identifying positive sentiments and minimizing false negatives. Overall, the model's performance instills confidence in its ability to accurately classify sentiments, making it a valuable tool for sentiment analysis tasks.**\n",
    "\n",
    "PS --> It can perform more better by better text pre processing but due to the limited computational resources I have done a more balanced kind of Sentimental Analyis of the Sephora Store Reviews"
   ]
  },
  {
   "cell_type": "code",
   "execution_count": null,
   "id": "fda44500",
   "metadata": {},
   "outputs": [],
   "source": []
  }
 ],
 "metadata": {
  "kernelspec": {
   "display_name": "Python 3 (ipykernel)",
   "language": "python",
   "name": "python3"
  },
  "language_info": {
   "codemirror_mode": {
    "name": "ipython",
    "version": 3
   },
   "file_extension": ".py",
   "mimetype": "text/x-python",
   "name": "python",
   "nbconvert_exporter": "python",
   "pygments_lexer": "ipython3",
   "version": "3.10.9"
  }
 },
 "nbformat": 4,
 "nbformat_minor": 5
}
